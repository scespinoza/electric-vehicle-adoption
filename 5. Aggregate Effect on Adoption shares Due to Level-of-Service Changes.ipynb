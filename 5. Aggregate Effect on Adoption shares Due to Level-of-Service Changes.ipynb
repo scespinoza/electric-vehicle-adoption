{
 "cells": [
  {
   "cell_type": "code",
   "execution_count": 1,
   "metadata": {},
   "outputs": [],
   "source": [
    "import pandas as pd\n",
    "import biogeme.results as res"
   ]
  },
  {
   "cell_type": "markdown",
   "metadata": {},
   "source": [
    "## Read and Transform data"
   ]
  },
  {
   "cell_type": "code",
   "execution_count": 2,
   "metadata": {},
   "outputs": [],
   "source": [
    "data = pd.read_csv('data/Data_HW_001.txt', sep='\\t')\n",
    "data['HIGH_INCOME'] = data['INCOME'].apply(lambda inc: int(inc == 3))\n",
    "data['MEDIUM_INCOME'] = data['INCOME'].apply(lambda inc: int(inc == 2))\n",
    "data['POPDENSE'] = data['POPDENSE'] / data['POPDENSE'].max()\n",
    "data['HCHILD'] = data['NCHILD'].apply(lambda n: int(n>0))\n",
    "data['AFRICAN'] = data['ETHN'].apply(lambda ethn: int(ethn == 2))\n",
    "#data['COST'] = data['COST'] * 0.75\n",
    "data['LINCCOST'] = data['INCOME'].apply(lambda inc: int(inc == 1)) * data['COST']\n",
    "data['WBIKENBIKES'] = data['WALKBIKE'] * data['NBIKES']"
   ]
  },
  {
   "cell_type": "code",
   "execution_count": 3,
   "metadata": {},
   "outputs": [],
   "source": [
    "data_org = data[['AFRICAN', 'CABLE', 'COST', 'HCHILD', 'LINCCOST', 'NEIGHB',\n",
    "             'POPDENSE', 'PTRANSP', 'SMARTPH', 'WBIKENBIKES', 'WOMEN']]"
   ]
  },
  {
   "cell_type": "code",
   "execution_count": 4,
   "metadata": {},
   "outputs": [
    {
     "data": {
      "text/html": [
       "<div>\n",
       "<style scoped>\n",
       "    .dataframe tbody tr th:only-of-type {\n",
       "        vertical-align: middle;\n",
       "    }\n",
       "\n",
       "    .dataframe tbody tr th {\n",
       "        vertical-align: top;\n",
       "    }\n",
       "\n",
       "    .dataframe thead th {\n",
       "        text-align: right;\n",
       "    }\n",
       "</style>\n",
       "<table border=\"1\" class=\"dataframe\">\n",
       "  <thead>\n",
       "    <tr style=\"text-align: right;\">\n",
       "      <th></th>\n",
       "      <th>AFRICAN</th>\n",
       "      <th>CABLE</th>\n",
       "      <th>COST</th>\n",
       "      <th>HCHILD</th>\n",
       "      <th>LINCCOST</th>\n",
       "      <th>NEIGHB</th>\n",
       "      <th>POPDENSE</th>\n",
       "      <th>PTRANSP</th>\n",
       "      <th>SMARTPH</th>\n",
       "      <th>WBIKENBIKES</th>\n",
       "      <th>WOMEN</th>\n",
       "    </tr>\n",
       "  </thead>\n",
       "  <tbody>\n",
       "    <tr>\n",
       "      <th>0</th>\n",
       "      <td>0</td>\n",
       "      <td>0</td>\n",
       "      <td>0.855287</td>\n",
       "      <td>0</td>\n",
       "      <td>0.855287</td>\n",
       "      <td>0</td>\n",
       "      <td>0.031452</td>\n",
       "      <td>0</td>\n",
       "      <td>1</td>\n",
       "      <td>0</td>\n",
       "      <td>1</td>\n",
       "    </tr>\n",
       "    <tr>\n",
       "      <th>1</th>\n",
       "      <td>0</td>\n",
       "      <td>0</td>\n",
       "      <td>0.878066</td>\n",
       "      <td>1</td>\n",
       "      <td>0.000000</td>\n",
       "      <td>1</td>\n",
       "      <td>0.003339</td>\n",
       "      <td>0</td>\n",
       "      <td>0</td>\n",
       "      <td>0</td>\n",
       "      <td>1</td>\n",
       "    </tr>\n",
       "    <tr>\n",
       "      <th>2</th>\n",
       "      <td>0</td>\n",
       "      <td>1</td>\n",
       "      <td>0.743314</td>\n",
       "      <td>0</td>\n",
       "      <td>0.000000</td>\n",
       "      <td>1</td>\n",
       "      <td>0.024073</td>\n",
       "      <td>1</td>\n",
       "      <td>0</td>\n",
       "      <td>0</td>\n",
       "      <td>0</td>\n",
       "    </tr>\n",
       "    <tr>\n",
       "      <th>3</th>\n",
       "      <td>0</td>\n",
       "      <td>0</td>\n",
       "      <td>0.695418</td>\n",
       "      <td>0</td>\n",
       "      <td>0.695418</td>\n",
       "      <td>0</td>\n",
       "      <td>0.024772</td>\n",
       "      <td>0</td>\n",
       "      <td>1</td>\n",
       "      <td>0</td>\n",
       "      <td>3</td>\n",
       "    </tr>\n",
       "    <tr>\n",
       "      <th>4</th>\n",
       "      <td>0</td>\n",
       "      <td>1</td>\n",
       "      <td>0.403656</td>\n",
       "      <td>0</td>\n",
       "      <td>0.000000</td>\n",
       "      <td>1</td>\n",
       "      <td>0.296155</td>\n",
       "      <td>0</td>\n",
       "      <td>0</td>\n",
       "      <td>0</td>\n",
       "      <td>0</td>\n",
       "    </tr>\n",
       "  </tbody>\n",
       "</table>\n",
       "</div>"
      ],
      "text/plain": [
       "   AFRICAN  CABLE      COST  HCHILD  LINCCOST  NEIGHB  POPDENSE  PTRANSP  \\\n",
       "0        0      0  0.855287       0  0.855287       0  0.031452        0   \n",
       "1        0      0  0.878066       1  0.000000       1  0.003339        0   \n",
       "2        0      1  0.743314       0  0.000000       1  0.024073        1   \n",
       "3        0      0  0.695418       0  0.695418       0  0.024772        0   \n",
       "4        0      1  0.403656       0  0.000000       1  0.296155        0   \n",
       "\n",
       "   SMARTPH  WBIKENBIKES  WOMEN  \n",
       "0        1            0      1  \n",
       "1        0            0      1  \n",
       "2        0            0      0  \n",
       "3        1            0      3  \n",
       "4        0            0      0  "
      ]
     },
     "execution_count": 4,
     "metadata": {},
     "output_type": "execute_result"
    }
   ],
   "source": [
    "data_org.head()"
   ]
  },
  {
   "cell_type": "code",
   "execution_count": 5,
   "metadata": {},
   "outputs": [
    {
     "data": {
      "text/plain": [
       "ASC_YES              -1.603652\n",
       "BETA_AFRICAN          0.431169\n",
       "BETA_CABLE            0.199776\n",
       "BETA_COST            -0.203227\n",
       "BETA_HCHILD          -0.161121\n",
       "BETA_LOWINC_COST     -0.319020\n",
       "BETA_NEIGHB           0.443073\n",
       "BETA_POPDENSE        -0.403432\n",
       "BETA_PTRANSP         -0.347248\n",
       "BETA_SMARTPH          0.131130\n",
       "BETA_WBIKES_NBIKES    0.163967\n",
       "BETA_WOMEN            0.084956\n",
       "Name: Value, dtype: float64"
      ]
     },
     "execution_count": 5,
     "metadata": {},
     "output_type": "execute_result"
    }
   ],
   "source": [
    "resultsFinalSpec = res.bioResults( pickleFile ='output/FinalSpec.pickle')\n",
    "betas = resultsFinalSpec.getEstimatedParameters()['Value']\n",
    "betas"
   ]
  },
  {
   "cell_type": "markdown",
   "metadata": {},
   "source": [
    "Original Utility Functions"
   ]
  },
  {
   "cell_type": "code",
   "execution_count": 6,
   "metadata": {},
   "outputs": [],
   "source": [
    "data['YES_ORG'] = data_org.values @ betas.iloc[1:].values + betas['ASC_YES'] "
   ]
  },
  {
   "cell_type": "markdown",
   "metadata": {},
   "source": [
    "Original probabilities of acceptance"
   ]
  },
  {
   "cell_type": "code",
   "execution_count": 7,
   "metadata": {},
   "outputs": [],
   "source": [
    "import numpy as np\n",
    "data['YES_PROB_ORG'] = np.exp(data['YES_ORG']) / (np.exp(data['YES_ORG']) + 1)"
   ]
  },
  {
   "cell_type": "markdown",
   "metadata": {},
   "source": [
    "75% Cost"
   ]
  },
  {
   "cell_type": "code",
   "execution_count": 8,
   "metadata": {},
   "outputs": [],
   "source": [
    "data['COST'] = data['COST'] * 0.75\n",
    "data['LINCCOST'] = data['INCOME'].apply(lambda inc: int(inc == 1)) * data['COST']"
   ]
  },
  {
   "cell_type": "code",
   "execution_count": 9,
   "metadata": {},
   "outputs": [],
   "source": [
    "data_75 = data[['AFRICAN', 'CABLE', 'COST', 'HCHILD', 'LINCCOST', 'NEIGHB',\n",
    "             'POPDENSE', 'PTRANSP', 'SMARTPH', 'WBIKENBIKES', 'WOMEN']]"
   ]
  },
  {
   "cell_type": "code",
   "execution_count": 10,
   "metadata": {},
   "outputs": [],
   "source": [
    "data['YES_75'] = data_75.values @ betas.iloc[1:].values + betas['ASC_YES'] \n",
    "data['YES_PROB_75'] = np.exp(data['YES_75']) / (np.exp(data['YES_75']) + 1)"
   ]
  },
  {
   "cell_type": "code",
   "execution_count": 11,
   "metadata": {},
   "outputs": [
    {
     "data": {
      "text/plain": [
       "0.009594942736141218"
      ]
     },
     "execution_count": 11,
     "metadata": {},
     "output_type": "execute_result"
    }
   ],
   "source": [
    "data['DELTA_PROB'] = data['YES_PROB_75'] - data['YES_PROB_ORG'] \n",
    "data['DELTA_PROB'].mean()"
   ]
  },
  {
   "cell_type": "code",
   "execution_count": 12,
   "metadata": {},
   "outputs": [
    {
     "data": {
      "text/plain": [
       "<matplotlib.legend.Legend at 0x2045e607f60>"
      ]
     },
     "execution_count": 12,
     "metadata": {},
     "output_type": "execute_result"
    }
   ],
   "source": [
    "import seaborn as sns\n",
    "import matplotlib.pyplot as plt\n",
    "sns.set_style('darkgrid')\n",
    "sns.distplot(data['YES_PROB_ORG'], label='Prob. of adopting the alt. with original cost')\n",
    "sns.distplot(data['YES_PROB_75'], label='Prob. of adopting the alt. with 75% cost')\n",
    "plt.legend()"
   ]
  },
  {
   "cell_type": "code",
   "execution_count": 13,
   "metadata": {},
   "outputs": [
    {
     "data": {
      "text/html": [
       "<div>\n",
       "<style scoped>\n",
       "    .dataframe tbody tr th:only-of-type {\n",
       "        vertical-align: middle;\n",
       "    }\n",
       "\n",
       "    .dataframe tbody tr th {\n",
       "        vertical-align: top;\n",
       "    }\n",
       "\n",
       "    .dataframe thead th {\n",
       "        text-align: right;\n",
       "    }\n",
       "</style>\n",
       "<table border=\"1\" class=\"dataframe\">\n",
       "  <thead>\n",
       "    <tr style=\"text-align: right;\">\n",
       "      <th>INCOME</th>\n",
       "      <th>1</th>\n",
       "      <th>2</th>\n",
       "      <th>3</th>\n",
       "    </tr>\n",
       "  </thead>\n",
       "  <tbody>\n",
       "    <tr>\n",
       "      <th>DELTA_PROB</th>\n",
       "      <td>0.013578</td>\n",
       "      <td>0.006558</td>\n",
       "      <td>0.006984</td>\n",
       "    </tr>\n",
       "  </tbody>\n",
       "</table>\n",
       "</div>"
      ],
      "text/plain": [
       "INCOME             1         2         3\n",
       "DELTA_PROB  0.013578  0.006558  0.006984"
      ]
     },
     "execution_count": 13,
     "metadata": {},
     "output_type": "execute_result"
    }
   ],
   "source": [
    "data.pivot_table(columns='INCOME', values='DELTA_PROB')"
   ]
  },
  {
   "cell_type": "code",
   "execution_count": 26,
   "metadata": {
    "scrolled": true
   },
   "outputs": [
    {
     "data": {
      "image/png": "[encoded data removed]",
      "text/plain": [
       "<Figure size 432x288 with 1 Axes>"
      ]
     },
     "metadata": {
      "needs_background": "light"
     },
     "output_type": "display_data"
    }
   ],
   "source": [
    "sns.distplot(data[data['INCOME'] == 1]['DELTA_PROB'], label='Low Income')\n",
    "sns.distplot(data[data['INCOME'] == 2]['DELTA_PROB'], label='Medium Income')\n",
    "sns.distplot(data[data['INCOME'] == 3]['DELTA_PROB'], label='High Income')\n",
    "plt.xlabel('Increase in probability')\n",
    "plt.ylabel('N° of observations')\n",
    "plt.legend()\n",
    "plt.savefig('figures/prob-increase-cost-75.png', dpi=100);"
   ]
  },
  {
   "cell_type": "code",
   "execution_count": null,
   "metadata": {},
   "outputs": [],
   "source": []
  }
 ],
 "metadata": {
  "kernelspec": {
   "display_name": "Python 3",
   "language": "python",
   "name": "python3"
  },
  "language_info": {
   "codemirror_mode": {
    "name": "ipython",
    "version": 3
   },
   "file_extension": ".py",
   "mimetype": "text/x-python",
   "name": "python",
   "nbconvert_exporter": "python",
   "pygments_lexer": "ipython3",
   "version": "3.7.3"
  }
 },
 "nbformat": 4,
 "nbformat_minor": 2
}
