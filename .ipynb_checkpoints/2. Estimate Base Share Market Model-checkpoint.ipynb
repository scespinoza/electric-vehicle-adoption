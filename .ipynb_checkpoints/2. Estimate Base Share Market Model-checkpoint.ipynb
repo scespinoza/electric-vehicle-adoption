{
 "cells": [
  {
   "cell_type": "markdown",
   "metadata": {},
   "source": [
    "## Imports"
   ]
  },
  {
   "cell_type": "code",
   "execution_count": 1,
   "metadata": {},
   "outputs": [],
   "source": [
    "import os\n",
    "import pandas as pd\n",
    "import biogeme.database as db\n",
    "import biogeme.biogeme as bio\n",
    "import matplotlib.pyplot as plt\n",
    "import seaborn as sns; sns.set()"
   ]
  },
  {
   "cell_type": "code",
   "execution_count": 2,
   "metadata": {},
   "outputs": [],
   "source": [
    "def estimateLogit(util, av, choice, modelName, database):\n",
    "    \"\"\"\n",
    "    A function to avoid duplicated files when\n",
    "    estimating Logit Models using Biogeme\n",
    "    \"\"\"\n",
    "    folder, name = modelName.split('/')\n",
    "    if (name + '.pickle') in os.listdir(folder):\n",
    "        os.remove(modelName + '.pickle')\n",
    "    if (name + '.html') in os.listdir(folder):\n",
    "        os.remove(modelName + '.html')\n",
    "    logprob = bioLogLogit(V,av,CHOSEN)\n",
    "    biogeme  = bio.BIOGEME(database,logprob)\n",
    "    biogeme.modelName = modelName\n",
    "    return biogeme.estimate()"
   ]
  },
  {
   "cell_type": "markdown",
   "metadata": {},
   "source": [
    "## Import the Data"
   ]
  },
  {
   "cell_type": "code",
   "execution_count": 3,
   "metadata": {},
   "outputs": [],
   "source": [
    "data = pd.read_csv('data/Data_HW_001.txt', sep='\\t')\n",
    "database = db.Database('Data_HW_001', data)\n",
    "from headers import * "
   ]
  },
  {
   "cell_type": "markdown",
   "metadata": {},
   "source": [
    "## Logit Model"
   ]
  },
  {
   "cell_type": "markdown",
   "metadata": {},
   "source": [
    "### Parameters"
   ]
  },
  {
   "cell_type": "code",
   "execution_count": 4,
   "metadata": {},
   "outputs": [],
   "source": [
    "ASC_YES = Beta('ASC_YES', 0, None, None, 0)\n",
    "ASC_NO = Beta('ASC_NO', 0, None, None, 1)"
   ]
  },
  {
   "cell_type": "markdown",
   "metadata": {},
   "source": [
    "### Availiability Conditions"
   ]
  },
  {
   "cell_type": "code",
   "execution_count": 5,
   "metadata": {},
   "outputs": [],
   "source": [
    "CAR_AV = DefineVariable('CAR_AV', (HHID != 0), database)\n",
    "av = {1: CAR_AV, 2: CAR_AV}"
   ]
  },
  {
   "cell_type": "markdown",
   "metadata": {},
   "source": [
    "### Utility Functions"
   ]
  },
  {
   "cell_type": "code",
   "execution_count": 6,
   "metadata": {},
   "outputs": [],
   "source": [
    "V1 = ASC_YES\n",
    "V2 = ASC_NO\n",
    "V = {1: V1, 2: V2}"
   ]
  },
  {
   "cell_type": "markdown",
   "metadata": {},
   "source": [
    "### Estimation"
   ]
  },
  {
   "cell_type": "code",
   "execution_count": 7,
   "metadata": {},
   "outputs": [],
   "source": [
    "results = estimateLogit(V, av, CHOSEN, 'output/Estimate_Base_Share_Market', database)"
   ]
  },
  {
   "cell_type": "markdown",
   "metadata": {},
   "source": [
    "### Results"
   ]
  },
  {
   "cell_type": "code",
   "execution_count": 8,
   "metadata": {},
   "outputs": [
    {
     "data": {
      "text/html": [
       "<div>\n",
       "<style scoped>\n",
       "    .dataframe tbody tr th:only-of-type {\n",
       "        vertical-align: middle;\n",
       "    }\n",
       "\n",
       "    .dataframe tbody tr th {\n",
       "        vertical-align: top;\n",
       "    }\n",
       "\n",
       "    .dataframe thead th {\n",
       "        text-align: right;\n",
       "    }\n",
       "</style>\n",
       "<table border=\"1\" class=\"dataframe\">\n",
       "  <thead>\n",
       "    <tr style=\"text-align: right;\">\n",
       "      <th></th>\n",
       "      <th>0</th>\n",
       "      <th>1</th>\n",
       "    </tr>\n",
       "  </thead>\n",
       "  <tbody>\n",
       "    <tr>\n",
       "      <th>Number of estimated parameters</th>\n",
       "      <td>1</td>\n",
       "      <td></td>\n",
       "    </tr>\n",
       "    <tr>\n",
       "      <th>Sample size</th>\n",
       "      <td>2775</td>\n",
       "      <td></td>\n",
       "    </tr>\n",
       "    <tr>\n",
       "      <th>Excluded observations</th>\n",
       "      <td>0</td>\n",
       "      <td></td>\n",
       "    </tr>\n",
       "    <tr>\n",
       "      <th>Init log likelihood</th>\n",
       "      <td>-1923.48</td>\n",
       "      <td>.7g</td>\n",
       "    </tr>\n",
       "    <tr>\n",
       "      <th>Final log likelihood</th>\n",
       "      <td>-1220.08</td>\n",
       "      <td>.7g</td>\n",
       "    </tr>\n",
       "    <tr>\n",
       "      <th>Likelihood ratio test for the init. model</th>\n",
       "      <td>1406.8</td>\n",
       "      <td>.7g</td>\n",
       "    </tr>\n",
       "    <tr>\n",
       "      <th>Rho-square for the init. model</th>\n",
       "      <td>0.36569</td>\n",
       "      <td>.3g</td>\n",
       "    </tr>\n",
       "    <tr>\n",
       "      <th>Rho-square-bar for the init. model</th>\n",
       "      <td>0.365171</td>\n",
       "      <td>.3g</td>\n",
       "    </tr>\n",
       "    <tr>\n",
       "      <th>Akaike Information Criterion</th>\n",
       "      <td>2442.17</td>\n",
       "      <td>.7g</td>\n",
       "    </tr>\n",
       "    <tr>\n",
       "      <th>Bayesian Information Criterion</th>\n",
       "      <td>2448.1</td>\n",
       "      <td>.7g</td>\n",
       "    </tr>\n",
       "    <tr>\n",
       "      <th>Final gradient norm</th>\n",
       "      <td>0.0085001</td>\n",
       "      <td>.4E</td>\n",
       "    </tr>\n",
       "    <tr>\n",
       "      <th>Diagnostic</th>\n",
       "      <td>b'CONVERGENCE: NORM_OF_PROJECTED_GRADIENT_&lt;=_P...</td>\n",
       "      <td></td>\n",
       "    </tr>\n",
       "    <tr>\n",
       "      <th>Database readings</th>\n",
       "      <td>6</td>\n",
       "      <td></td>\n",
       "    </tr>\n",
       "    <tr>\n",
       "      <th>Iterations</th>\n",
       "      <td>5</td>\n",
       "      <td></td>\n",
       "    </tr>\n",
       "    <tr>\n",
       "      <th>Data processing time</th>\n",
       "      <td>0 days 00:00:00</td>\n",
       "      <td>NaT</td>\n",
       "    </tr>\n",
       "    <tr>\n",
       "      <th>Optimization time</th>\n",
       "      <td>0 days 00:00:00.057961</td>\n",
       "      <td>NaT</td>\n",
       "    </tr>\n",
       "    <tr>\n",
       "      <th>Nbr of threads</th>\n",
       "      <td>4</td>\n",
       "      <td></td>\n",
       "    </tr>\n",
       "  </tbody>\n",
       "</table>\n",
       "</div>"
      ],
      "text/plain": [
       "                                                                                           0  \\\n",
       "Number of estimated parameters                                                             1   \n",
       "Sample size                                                                             2775   \n",
       "Excluded observations                                                                      0   \n",
       "Init log likelihood                                                                 -1923.48   \n",
       "Final log likelihood                                                                -1220.08   \n",
       "Likelihood ratio test for the init. model                                             1406.8   \n",
       "Rho-square for the init. model                                                       0.36569   \n",
       "Rho-square-bar for the init. model                                                  0.365171   \n",
       "Akaike Information Criterion                                                         2442.17   \n",
       "Bayesian Information Criterion                                                        2448.1   \n",
       "Final gradient norm                                                                0.0085001   \n",
       "Diagnostic                                 b'CONVERGENCE: NORM_OF_PROJECTED_GRADIENT_<=_P...   \n",
       "Database readings                                                                          6   \n",
       "Iterations                                                                                 5   \n",
       "Data processing time                                                         0 days 00:00:00   \n",
       "Optimization time                                                     0 days 00:00:00.057961   \n",
       "Nbr of threads                                                                             4   \n",
       "\n",
       "                                             1  \n",
       "Number of estimated parameters                  \n",
       "Sample size                                     \n",
       "Excluded observations                           \n",
       "Init log likelihood                        .7g  \n",
       "Final log likelihood                       .7g  \n",
       "Likelihood ratio test for the init. model  .7g  \n",
       "Rho-square for the init. model             .3g  \n",
       "Rho-square-bar for the init. model         .3g  \n",
       "Akaike Information Criterion               .7g  \n",
       "Bayesian Information Criterion             .7g  \n",
       "Final gradient norm                        .4E  \n",
       "Diagnostic                                      \n",
       "Database readings                               \n",
       "Iterations                                      \n",
       "Data processing time                       NaT  \n",
       "Optimization time                          NaT  \n",
       "Nbr of threads                                  "
      ]
     },
     "execution_count": 8,
     "metadata": {},
     "output_type": "execute_result"
    }
   ],
   "source": [
    "pd.DataFrame(results.getGeneralStatistics()).T"
   ]
  },
  {
   "cell_type": "code",
   "execution_count": 9,
   "metadata": {},
   "outputs": [
    {
     "data": {
      "text/html": [
       "<div>\n",
       "<style scoped>\n",
       "    .dataframe tbody tr th:only-of-type {\n",
       "        vertical-align: middle;\n",
       "    }\n",
       "\n",
       "    .dataframe tbody tr th {\n",
       "        vertical-align: top;\n",
       "    }\n",
       "\n",
       "    .dataframe thead th {\n",
       "        text-align: right;\n",
       "    }\n",
       "</style>\n",
       "<table border=\"1\" class=\"dataframe\">\n",
       "  <thead>\n",
       "    <tr style=\"text-align: right;\">\n",
       "      <th></th>\n",
       "      <th>Value</th>\n",
       "      <th>Std err</th>\n",
       "      <th>t-test</th>\n",
       "      <th>p-value</th>\n",
       "      <th>Rob. Std err</th>\n",
       "      <th>Rob. t-test</th>\n",
       "      <th>Rob. p-value</th>\n",
       "    </tr>\n",
       "  </thead>\n",
       "  <tbody>\n",
       "    <tr>\n",
       "      <th>ASC_YES</th>\n",
       "      <td>-1.658205</td>\n",
       "      <td>0.05178</td>\n",
       "      <td>-32.023794</td>\n",
       "      <td>0.0</td>\n",
       "      <td>0.05178</td>\n",
       "      <td>-32.024043</td>\n",
       "      <td>0.0</td>\n",
       "    </tr>\n",
       "  </tbody>\n",
       "</table>\n",
       "</div>"
      ],
      "text/plain": [
       "            Value  Std err     t-test  p-value  Rob. Std err  Rob. t-test  \\\n",
       "ASC_YES -1.658205  0.05178 -32.023794      0.0       0.05178   -32.024043   \n",
       "\n",
       "         Rob. p-value  \n",
       "ASC_YES           0.0  "
      ]
     },
     "execution_count": 9,
     "metadata": {},
     "output_type": "execute_result"
    }
   ],
   "source": [
    "results.getEstimatedParameters()"
   ]
  },
  {
   "cell_type": "code",
   "execution_count": null,
   "metadata": {},
   "outputs": [],
   "source": []
  }
 ],
 "metadata": {
  "kernelspec": {
   "display_name": "Python 3",
   "language": "python",
   "name": "python3"
  },
  "language_info": {
   "codemirror_mode": {
    "name": "ipython",
    "version": 3
   },
   "file_extension": ".py",
   "mimetype": "text/x-python",
   "name": "python",
   "nbconvert_exporter": "python",
   "pygments_lexer": "ipython3",
   "version": "3.7.3"
  }
 },
 "nbformat": 4,
 "nbformat_minor": 2
}
